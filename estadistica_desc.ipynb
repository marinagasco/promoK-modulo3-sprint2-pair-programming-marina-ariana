{
 "cells": [
  {
   "cell_type": "code",
   "execution_count": 1,
   "metadata": {},
   "outputs": [],
   "source": [
    "# importamos las librerías que necesitamos\n",
    "\n",
    "# Tratamiento de datos\n",
    "# -----------------------------------------------------------------------\n",
    "import pandas as pd\n",
    "import numpy as np\n",
    "\n",
    "# Visualización\n",
    "# ------------------------------------------------------------------------------\n",
    "import matplotlib.pyplot as plt\n",
    "import seaborn as sns\n",
    "\n",
    "# Evaluar linealidad de las relaciones entre las variables\n",
    "# ------------------------------------------------------------------------------\n",
    "from scipy.stats import shapiro, kstest\n",
    "\n",
    "# Configuración\n",
    "# -----------------------------------------------------------------------\n",
    "pd.set_option('display.max_columns', None) # para poder visualizar todas las columnas de los DataFrames\n",
    "\n",
    "# Gestión de los warnings\n",
    "# -----------------------------------------------------------------------\n",
    "import warnings\n",
    "warnings.filterwarnings(\"ignore\")"
   ]
  },
  {
   "cell_type": "code",
   "execution_count": 2,
   "metadata": {},
   "outputs": [
    {
     "data": {
      "text/html": [
       "<div>\n",
       "<style scoped>\n",
       "    .dataframe tbody tr th:only-of-type {\n",
       "        vertical-align: middle;\n",
       "    }\n",
       "\n",
       "    .dataframe tbody tr th {\n",
       "        vertical-align: top;\n",
       "    }\n",
       "\n",
       "    .dataframe thead th {\n",
       "        text-align: right;\n",
       "    }\n",
       "</style>\n",
       "<table border=\"1\" class=\"dataframe\">\n",
       "  <thead>\n",
       "    <tr style=\"text-align: right;\">\n",
       "      <th></th>\n",
       "      <th>country</th>\n",
       "      <th>density</th>\n",
       "      <th>abbreviation</th>\n",
       "      <th>agricultural_land</th>\n",
       "      <th>land_area</th>\n",
       "      <th>armed_forces_size</th>\n",
       "      <th>birth_rate</th>\n",
       "      <th>calling_code</th>\n",
       "      <th>capital/major_city</th>\n",
       "      <th>co2-emissions</th>\n",
       "      <th>cpi</th>\n",
       "      <th>cpi_change</th>\n",
       "      <th>currency-code</th>\n",
       "      <th>fertility_rate</th>\n",
       "      <th>forested_area</th>\n",
       "      <th>gasoline_price</th>\n",
       "      <th>gdp</th>\n",
       "      <th>gross_primary_education_enrollment</th>\n",
       "      <th>gross_tertiary_education_enrollment</th>\n",
       "      <th>infant_mortality</th>\n",
       "      <th>largest_city</th>\n",
       "      <th>life_expectancy</th>\n",
       "      <th>maternal_mortality_ratio</th>\n",
       "      <th>minimum_wage</th>\n",
       "      <th>official_language</th>\n",
       "      <th>out_of_pocket_health_expenditure</th>\n",
       "      <th>physicians_per_thousand</th>\n",
       "      <th>population</th>\n",
       "      <th>population_labor_force_participation</th>\n",
       "      <th>tax_revenue</th>\n",
       "      <th>total_tax_rate</th>\n",
       "      <th>unemployment_rate</th>\n",
       "      <th>urban_population</th>\n",
       "      <th>latitude</th>\n",
       "      <th>longitude</th>\n",
       "      <th>continent</th>\n",
       "    </tr>\n",
       "  </thead>\n",
       "  <tbody>\n",
       "    <tr>\n",
       "      <th>0</th>\n",
       "      <td>Afghanistan</td>\n",
       "      <td>60.0</td>\n",
       "      <td>AF</td>\n",
       "      <td>58.1</td>\n",
       "      <td>652.23</td>\n",
       "      <td>323.0</td>\n",
       "      <td>32.49</td>\n",
       "      <td>93.0</td>\n",
       "      <td>Kabul</td>\n",
       "      <td>8.672</td>\n",
       "      <td>149.9</td>\n",
       "      <td>2.3</td>\n",
       "      <td>AFN</td>\n",
       "      <td>4.47</td>\n",
       "      <td>2.1</td>\n",
       "      <td>0.7</td>\n",
       "      <td>1.910135e+10</td>\n",
       "      <td>104.0</td>\n",
       "      <td>9.7</td>\n",
       "      <td>47.9</td>\n",
       "      <td>Kabul</td>\n",
       "      <td>64.5</td>\n",
       "      <td>638.0</td>\n",
       "      <td>0.43</td>\n",
       "      <td>Pashto</td>\n",
       "      <td>78.4</td>\n",
       "      <td>0.28</td>\n",
       "      <td>NaN</td>\n",
       "      <td>48.9</td>\n",
       "      <td>9.3</td>\n",
       "      <td>71.4</td>\n",
       "      <td>11.12</td>\n",
       "      <td>NaN</td>\n",
       "      <td>33.93911</td>\n",
       "      <td>67.709953</td>\n",
       "      <td>Asia</td>\n",
       "    </tr>\n",
       "  </tbody>\n",
       "</table>\n",
       "</div>"
      ],
      "text/plain": [
       "       country  density abbreviation  agricultural_land  land_area  \\\n",
       "0  Afghanistan     60.0           AF               58.1     652.23   \n",
       "\n",
       "   armed_forces_size  birth_rate  calling_code capital/major_city  \\\n",
       "0              323.0       32.49          93.0              Kabul   \n",
       "\n",
       "   co2-emissions    cpi  cpi_change currency-code  fertility_rate  \\\n",
       "0          8.672  149.9         2.3           AFN            4.47   \n",
       "\n",
       "   forested_area  gasoline_price           gdp  \\\n",
       "0            2.1             0.7  1.910135e+10   \n",
       "\n",
       "   gross_primary_education_enrollment  gross_tertiary_education_enrollment  \\\n",
       "0                               104.0                                  9.7   \n",
       "\n",
       "   infant_mortality largest_city  life_expectancy  maternal_mortality_ratio  \\\n",
       "0              47.9        Kabul             64.5                     638.0   \n",
       "\n",
       "   minimum_wage official_language  out_of_pocket_health_expenditure  \\\n",
       "0          0.43            Pashto                              78.4   \n",
       "\n",
       "   physicians_per_thousand  population  population_labor_force_participation  \\\n",
       "0                     0.28         NaN                                  48.9   \n",
       "\n",
       "   tax_revenue  total_tax_rate  unemployment_rate  urban_population  latitude  \\\n",
       "0          9.3            71.4              11.12               NaN  33.93911   \n",
       "\n",
       "   longitude continent  \n",
       "0  67.709953      Asia  "
      ]
     },
     "execution_count": 2,
     "metadata": {},
     "output_type": "execute_result"
    }
   ],
   "source": [
    "df = pd.read_csv('world_data_full_apply_nulos.csv', index_col=0)\n",
    "df.head(1)"
   ]
  },
  {
   "cell_type": "code",
   "execution_count": null,
   "metadata": {},
   "outputs": [],
   "source": []
  },
  {
   "cell_type": "code",
   "execution_count": 10,
   "metadata": {},
   "outputs": [],
   "source": [
    "##Calcula las siguientes estadísticas descriptivas para las variables numéricas: Media,Mediana,Desviación estándar,Mínimo,Máximo: \n",
    "\n",
    "df_estadistica = df.describe(exclude= \"object\").T"
   ]
  },
  {
   "cell_type": "code",
   "execution_count": 14,
   "metadata": {},
   "outputs": [
    {
     "data": {
      "text/html": [
       "<div>\n",
       "<style scoped>\n",
       "    .dataframe tbody tr th:only-of-type {\n",
       "        vertical-align: middle;\n",
       "    }\n",
       "\n",
       "    .dataframe tbody tr th {\n",
       "        vertical-align: top;\n",
       "    }\n",
       "\n",
       "    .dataframe thead th {\n",
       "        text-align: right;\n",
       "    }\n",
       "</style>\n",
       "<table border=\"1\" class=\"dataframe\">\n",
       "  <thead>\n",
       "    <tr style=\"text-align: right;\">\n",
       "      <th></th>\n",
       "      <th>mean</th>\n",
       "      <th>std</th>\n",
       "      <th>50%</th>\n",
       "      <th>min</th>\n",
       "      <th>max</th>\n",
       "    </tr>\n",
       "  </thead>\n",
       "  <tbody>\n",
       "    <tr>\n",
       "      <th>density</th>\n",
       "      <td>1.345045e+02</td>\n",
       "      <td>1.573068e+02</td>\n",
       "      <td>8.300000e+01</td>\n",
       "      <td>1.265000e+00</td>\n",
       "      <td>8.470000e+02</td>\n",
       "    </tr>\n",
       "    <tr>\n",
       "      <th>agricultural_land</th>\n",
       "      <td>3.911755e+01</td>\n",
       "      <td>2.178305e+01</td>\n",
       "      <td>3.960000e+01</td>\n",
       "      <td>6.000000e-01</td>\n",
       "      <td>8.260000e+01</td>\n",
       "    </tr>\n",
       "    <tr>\n",
       "      <th>land_area</th>\n",
       "      <td>2.552127e+02</td>\n",
       "      <td>2.583850e+02</td>\n",
       "      <td>1.484600e+02</td>\n",
       "      <td>0.000000e+00</td>\n",
       "      <td>9.640000e+02</td>\n",
       "    </tr>\n",
       "    <tr>\n",
       "      <th>armed_forces_size</th>\n",
       "      <td>1.037831e+02</td>\n",
       "      <td>1.671580e+02</td>\n",
       "      <td>2.850000e+01</td>\n",
       "      <td>0.000000e+00</td>\n",
       "      <td>9.360000e+02</td>\n",
       "    </tr>\n",
       "    <tr>\n",
       "      <th>birth_rate</th>\n",
       "      <td>2.021497e+01</td>\n",
       "      <td>9.945774e+00</td>\n",
       "      <td>1.795000e+01</td>\n",
       "      <td>5.900000e+00</td>\n",
       "      <td>4.608000e+01</td>\n",
       "    </tr>\n",
       "    <tr>\n",
       "      <th>calling_code</th>\n",
       "      <td>3.605464e+02</td>\n",
       "      <td>3.232364e+02</td>\n",
       "      <td>2.555000e+02</td>\n",
       "      <td>1.000000e+00</td>\n",
       "      <td>1.876000e+03</td>\n",
       "    </tr>\n",
       "    <tr>\n",
       "      <th>co2-emissions</th>\n",
       "      <td>1.259155e+02</td>\n",
       "      <td>1.817949e+02</td>\n",
       "      <td>3.447700e+01</td>\n",
       "      <td>1.016000e+00</td>\n",
       "      <td>7.279730e+02</td>\n",
       "    </tr>\n",
       "    <tr>\n",
       "      <th>cpi</th>\n",
       "      <td>1.441936e+02</td>\n",
       "      <td>5.478400e+01</td>\n",
       "      <td>1.247400e+02</td>\n",
       "      <td>9.903000e+01</td>\n",
       "      <td>5.509300e+02</td>\n",
       "    </tr>\n",
       "    <tr>\n",
       "      <th>cpi_change</th>\n",
       "      <td>6.722346e+00</td>\n",
       "      <td>2.445041e+01</td>\n",
       "      <td>2.300000e+00</td>\n",
       "      <td>-4.300000e+00</td>\n",
       "      <td>2.549000e+02</td>\n",
       "    </tr>\n",
       "    <tr>\n",
       "      <th>fertility_rate</th>\n",
       "      <td>2.698138e+00</td>\n",
       "      <td>1.282267e+00</td>\n",
       "      <td>2.245000e+00</td>\n",
       "      <td>9.800000e-01</td>\n",
       "      <td>6.910000e+00</td>\n",
       "    </tr>\n",
       "    <tr>\n",
       "      <th>forested_area</th>\n",
       "      <td>3.201543e+01</td>\n",
       "      <td>2.379133e+01</td>\n",
       "      <td>3.200000e+01</td>\n",
       "      <td>0.000000e+00</td>\n",
       "      <td>9.830000e+01</td>\n",
       "    </tr>\n",
       "    <tr>\n",
       "      <th>gasoline_price</th>\n",
       "      <td>1.002457e+00</td>\n",
       "      <td>3.688585e-01</td>\n",
       "      <td>9.800000e-01</td>\n",
       "      <td>0.000000e+00</td>\n",
       "      <td>2.000000e+00</td>\n",
       "    </tr>\n",
       "    <tr>\n",
       "      <th>gdp</th>\n",
       "      <td>4.772959e+11</td>\n",
       "      <td>2.172173e+12</td>\n",
       "      <td>3.438723e+10</td>\n",
       "      <td>4.727146e+07</td>\n",
       "      <td>2.142770e+13</td>\n",
       "    </tr>\n",
       "    <tr>\n",
       "      <th>gross_primary_education_enrollment</th>\n",
       "      <td>1.024702e+02</td>\n",
       "      <td>1.315161e+01</td>\n",
       "      <td>1.025500e+02</td>\n",
       "      <td>2.340000e+01</td>\n",
       "      <td>1.425000e+02</td>\n",
       "    </tr>\n",
       "    <tr>\n",
       "      <th>gross_tertiary_education_enrollment</th>\n",
       "      <td>3.796339e+01</td>\n",
       "      <td>2.926102e+01</td>\n",
       "      <td>3.120000e+01</td>\n",
       "      <td>8.000000e-01</td>\n",
       "      <td>1.366000e+02</td>\n",
       "    </tr>\n",
       "    <tr>\n",
       "      <th>infant_mortality</th>\n",
       "      <td>2.133280e+01</td>\n",
       "      <td>1.954806e+01</td>\n",
       "      <td>1.400000e+01</td>\n",
       "      <td>1.400000e+00</td>\n",
       "      <td>8.450000e+01</td>\n",
       "    </tr>\n",
       "    <tr>\n",
       "      <th>life_expectancy</th>\n",
       "      <td>7.227968e+01</td>\n",
       "      <td>7.483661e+00</td>\n",
       "      <td>7.320000e+01</td>\n",
       "      <td>5.280000e+01</td>\n",
       "      <td>8.540000e+01</td>\n",
       "    </tr>\n",
       "    <tr>\n",
       "      <th>maternal_mortality_ratio</th>\n",
       "      <td>1.603923e+02</td>\n",
       "      <td>2.335020e+02</td>\n",
       "      <td>5.300000e+01</td>\n",
       "      <td>2.000000e+00</td>\n",
       "      <td>1.150000e+03</td>\n",
       "    </tr>\n",
       "    <tr>\n",
       "      <th>minimum_wage</th>\n",
       "      <td>2.194133e+00</td>\n",
       "      <td>2.970796e+00</td>\n",
       "      <td>1.045000e+00</td>\n",
       "      <td>1.000000e-02</td>\n",
       "      <td>1.359000e+01</td>\n",
       "    </tr>\n",
       "    <tr>\n",
       "      <th>out_of_pocket_health_expenditure</th>\n",
       "      <td>3.263723e+01</td>\n",
       "      <td>1.917270e+01</td>\n",
       "      <td>3.070000e+01</td>\n",
       "      <td>2.000000e-01</td>\n",
       "      <td>8.160000e+01</td>\n",
       "    </tr>\n",
       "    <tr>\n",
       "      <th>physicians_per_thousand</th>\n",
       "      <td>1.839840e+00</td>\n",
       "      <td>1.684261e+00</td>\n",
       "      <td>1.460000e+00</td>\n",
       "      <td>1.000000e-02</td>\n",
       "      <td>8.420000e+00</td>\n",
       "    </tr>\n",
       "    <tr>\n",
       "      <th>population</th>\n",
       "      <td>3.335427e+02</td>\n",
       "      <td>2.964675e+02</td>\n",
       "      <td>2.150560e+02</td>\n",
       "      <td>1.008400e+01</td>\n",
       "      <td>9.735600e+02</td>\n",
       "    </tr>\n",
       "    <tr>\n",
       "      <th>population_labor_force_participation</th>\n",
       "      <td>6.273807e+01</td>\n",
       "      <td>1.050291e+01</td>\n",
       "      <td>6.245000e+01</td>\n",
       "      <td>3.800000e+01</td>\n",
       "      <td>8.680000e+01</td>\n",
       "    </tr>\n",
       "    <tr>\n",
       "      <th>tax_revenue</th>\n",
       "      <td>1.657396e+01</td>\n",
       "      <td>6.961632e+00</td>\n",
       "      <td>1.630000e+01</td>\n",
       "      <td>0.000000e+00</td>\n",
       "      <td>3.720000e+01</td>\n",
       "    </tr>\n",
       "    <tr>\n",
       "      <th>total_tax_rate</th>\n",
       "      <td>4.082240e+01</td>\n",
       "      <td>2.055766e+01</td>\n",
       "      <td>3.720000e+01</td>\n",
       "      <td>8.000000e+00</td>\n",
       "      <td>2.196000e+02</td>\n",
       "    </tr>\n",
       "    <tr>\n",
       "      <th>unemployment_rate</th>\n",
       "      <td>6.886364e+00</td>\n",
       "      <td>5.079216e+00</td>\n",
       "      <td>5.360000e+00</td>\n",
       "      <td>9.000000e-02</td>\n",
       "      <td>2.818000e+01</td>\n",
       "    </tr>\n",
       "    <tr>\n",
       "      <th>urban_population</th>\n",
       "      <td>2.794610e+02</td>\n",
       "      <td>2.833224e+02</td>\n",
       "      <td>1.790390e+02</td>\n",
       "      <td>5.464000e+00</td>\n",
       "      <td>9.848120e+02</td>\n",
       "    </tr>\n",
       "    <tr>\n",
       "      <th>latitude</th>\n",
       "      <td>1.909235e+01</td>\n",
       "      <td>2.396178e+01</td>\n",
       "      <td>1.727385e+01</td>\n",
       "      <td>-4.090056e+01</td>\n",
       "      <td>6.496305e+01</td>\n",
       "    </tr>\n",
       "    <tr>\n",
       "      <th>longitude</th>\n",
       "      <td>2.023243e+01</td>\n",
       "      <td>6.671611e+01</td>\n",
       "      <td>2.097265e+01</td>\n",
       "      <td>-1.751982e+02</td>\n",
       "      <td>1.780650e+02</td>\n",
       "    </tr>\n",
       "  </tbody>\n",
       "</table>\n",
       "</div>"
      ],
      "text/plain": [
       "                                              mean           std  \\\n",
       "density                               1.345045e+02  1.573068e+02   \n",
       "agricultural_land                     3.911755e+01  2.178305e+01   \n",
       "land_area                             2.552127e+02  2.583850e+02   \n",
       "armed_forces_size                     1.037831e+02  1.671580e+02   \n",
       "birth_rate                            2.021497e+01  9.945774e+00   \n",
       "calling_code                          3.605464e+02  3.232364e+02   \n",
       "co2-emissions                         1.259155e+02  1.817949e+02   \n",
       "cpi                                   1.441936e+02  5.478400e+01   \n",
       "cpi_change                            6.722346e+00  2.445041e+01   \n",
       "fertility_rate                        2.698138e+00  1.282267e+00   \n",
       "forested_area                         3.201543e+01  2.379133e+01   \n",
       "gasoline_price                        1.002457e+00  3.688585e-01   \n",
       "gdp                                   4.772959e+11  2.172173e+12   \n",
       "gross_primary_education_enrollment    1.024702e+02  1.315161e+01   \n",
       "gross_tertiary_education_enrollment   3.796339e+01  2.926102e+01   \n",
       "infant_mortality                      2.133280e+01  1.954806e+01   \n",
       "life_expectancy                       7.227968e+01  7.483661e+00   \n",
       "maternal_mortality_ratio              1.603923e+02  2.335020e+02   \n",
       "minimum_wage                          2.194133e+00  2.970796e+00   \n",
       "out_of_pocket_health_expenditure      3.263723e+01  1.917270e+01   \n",
       "physicians_per_thousand               1.839840e+00  1.684261e+00   \n",
       "population                            3.335427e+02  2.964675e+02   \n",
       "population_labor_force_participation  6.273807e+01  1.050291e+01   \n",
       "tax_revenue                           1.657396e+01  6.961632e+00   \n",
       "total_tax_rate                        4.082240e+01  2.055766e+01   \n",
       "unemployment_rate                     6.886364e+00  5.079216e+00   \n",
       "urban_population                      2.794610e+02  2.833224e+02   \n",
       "latitude                              1.909235e+01  2.396178e+01   \n",
       "longitude                             2.023243e+01  6.671611e+01   \n",
       "\n",
       "                                               50%           min           max  \n",
       "density                               8.300000e+01  1.265000e+00  8.470000e+02  \n",
       "agricultural_land                     3.960000e+01  6.000000e-01  8.260000e+01  \n",
       "land_area                             1.484600e+02  0.000000e+00  9.640000e+02  \n",
       "armed_forces_size                     2.850000e+01  0.000000e+00  9.360000e+02  \n",
       "birth_rate                            1.795000e+01  5.900000e+00  4.608000e+01  \n",
       "calling_code                          2.555000e+02  1.000000e+00  1.876000e+03  \n",
       "co2-emissions                         3.447700e+01  1.016000e+00  7.279730e+02  \n",
       "cpi                                   1.247400e+02  9.903000e+01  5.509300e+02  \n",
       "cpi_change                            2.300000e+00 -4.300000e+00  2.549000e+02  \n",
       "fertility_rate                        2.245000e+00  9.800000e-01  6.910000e+00  \n",
       "forested_area                         3.200000e+01  0.000000e+00  9.830000e+01  \n",
       "gasoline_price                        9.800000e-01  0.000000e+00  2.000000e+00  \n",
       "gdp                                   3.438723e+10  4.727146e+07  2.142770e+13  \n",
       "gross_primary_education_enrollment    1.025500e+02  2.340000e+01  1.425000e+02  \n",
       "gross_tertiary_education_enrollment   3.120000e+01  8.000000e-01  1.366000e+02  \n",
       "infant_mortality                      1.400000e+01  1.400000e+00  8.450000e+01  \n",
       "life_expectancy                       7.320000e+01  5.280000e+01  8.540000e+01  \n",
       "maternal_mortality_ratio              5.300000e+01  2.000000e+00  1.150000e+03  \n",
       "minimum_wage                          1.045000e+00  1.000000e-02  1.359000e+01  \n",
       "out_of_pocket_health_expenditure      3.070000e+01  2.000000e-01  8.160000e+01  \n",
       "physicians_per_thousand               1.460000e+00  1.000000e-02  8.420000e+00  \n",
       "population                            2.150560e+02  1.008400e+01  9.735600e+02  \n",
       "population_labor_force_participation  6.245000e+01  3.800000e+01  8.680000e+01  \n",
       "tax_revenue                           1.630000e+01  0.000000e+00  3.720000e+01  \n",
       "total_tax_rate                        3.720000e+01  8.000000e+00  2.196000e+02  \n",
       "unemployment_rate                     5.360000e+00  9.000000e-02  2.818000e+01  \n",
       "urban_population                      1.790390e+02  5.464000e+00  9.848120e+02  \n",
       "latitude                              1.727385e+01 -4.090056e+01  6.496305e+01  \n",
       "longitude                             2.097265e+01 -1.751982e+02  1.780650e+02  "
      ]
     },
     "execution_count": 14,
     "metadata": {},
     "output_type": "execute_result"
    }
   ],
   "source": [
    "columnas = [ 'mean', 'std','50%', 'min','max']\n",
    "\n",
    "df_estadistica_1 = df_estadistica[columnas]\n",
    "df_estadistica_1"
   ]
  },
  {
   "cell_type": "code",
   "execution_count": null,
   "metadata": {
    "notebookRunGroups": {
     "groupValue": "1"
    }
   },
   "outputs": [],
   "source": [
    "## Identifica el país con la mayor densidad de población y el país con la menor población en el conjunto de datos.\n",
    "\n"
   ]
  },
  {
   "cell_type": "code",
   "execution_count": 26,
   "metadata": {},
   "outputs": [
    {
     "data": {
      "text/plain": [
       "country    Palestinian National Authority\n",
       "density                             847.0\n",
       "Name: 133, dtype: object"
      ]
     },
     "execution_count": 26,
     "metadata": {},
     "output_type": "execute_result"
    }
   ],
   "source": [
    "pais_mayor_densidad = df.loc[df['density'].idxmax(), ['country', 'density']]\n",
    "pais_mayor_densidad"
   ]
  },
  {
   "cell_type": "code",
   "execution_count": 27,
   "metadata": {},
   "outputs": [
    {
     "data": {
      "text/plain": [
       "country        Nauru\n",
       "population    10.084\n",
       "Name: 120, dtype: object"
      ]
     },
     "execution_count": 27,
     "metadata": {},
     "output_type": "execute_result"
    }
   ],
   "source": [
    "pais_menor_poblacion = df.loc[df['population'].idxmin(), ['country', 'population']]\n",
    "pais_menor_poblacion"
   ]
  },
  {
   "cell_type": "code",
   "execution_count": 33,
   "metadata": {},
   "outputs": [],
   "source": [
    "pd.set_option('display.max_rows', None) # para poder visualizar todas las filas de los DataFrames"
   ]
  },
  {
   "cell_type": "code",
   "execution_count": null,
   "metadata": {},
   "outputs": [],
   "source": [
    "#Calcula la tasa promedio de natalidad (birth_rate) para todos los países en el conjunto de datos\n",
    "\n",
    "media_natalidad = df['birth_rate'].mean()\n",
    "media_natalidad_pais = df.groupby('country')['birth_rate'].mean().reset_index()\n",
    "media_natalidad_pais "
   ]
  },
  {
   "cell_type": "code",
   "execution_count": 36,
   "metadata": {},
   "outputs": [
    {
     "data": {
      "text/plain": [
       "<Axes: xlabel='infant_mortality', ylabel='Count'>"
      ]
     },
     "execution_count": 36,
     "metadata": {},
     "output_type": "execute_result"
    },
    {
     "data": {
      "image/png": "[encoded data removed]",
      "text/plain": [
       "<Figure size 640x480 with 1 Axes>"
      ]
     },
     "metadata": {},
     "output_type": "display_data"
    }
   ],
   "source": [
    "#Realiza un análisis de la mortalidad infantil (infant_mortality) y clasifica los países en tres categorías: \n",
    "# baja, moderada y alta mortalidad infantil.\n",
    "\n",
    "sns.histplot(x='infant_mortality', data=df)"
   ]
  },
  {
   "cell_type": "code",
   "execution_count": 41,
   "metadata": {},
   "outputs": [
    {
     "data": {
      "text/plain": [
       "<Axes: xlabel='infant_mortality'>"
      ]
     },
     "execution_count": 41,
     "metadata": {},
     "output_type": "execute_result"
    },
    {
     "data": {
      "image/png": "[encoded data removed]",
      "text/plain": [
       "<Figure size 640x480 with 1 Axes>"
      ]
     },
     "metadata": {},
     "output_type": "display_data"
    }
   ],
   "source": [
    "sns.boxplot(x = \"infant_mortality\", \n",
    "            data = df)"
   ]
  },
  {
   "cell_type": "code",
   "execution_count": null,
   "metadata": {},
   "outputs": [
    {
     "data": {
      "text/plain": [
       "21.332804232804236"
      ]
     },
     "execution_count": 42,
     "metadata": {},
     "output_type": "execute_result"
    }
   ],
   "source": [
    "media_mort_inf = df['infant_mortality'].mean() ## esto es la media de todos los paises (mortalidad infantil)\n",
    "media_mort_inf"
   ]
  },
  {
   "cell_type": "code",
   "execution_count": null,
   "metadata": {},
   "outputs": [
    {
     "data": {
      "text/plain": [
       "14.0"
      ]
     },
     "execution_count": 43,
     "metadata": {},
     "output_type": "execute_result"
    }
   ],
   "source": [
    "mediana_mort_inf = df['infant_mortality'].median() ## esto es la posición media de mortalidad infantil de todos los paises \n",
    "mediana_mort_inf"
   ]
  },
  {
   "cell_type": "code",
   "execution_count": null,
   "metadata": {},
   "outputs": [
    {
     "data": {
      "text/plain": [
       "6"
      ]
     },
     "execution_count": 44,
     "metadata": {},
     "output_type": "execute_result"
    }
   ],
   "source": [
    "df['infant_mortality'].isnull().sum() #chequeamos si hay nulos"
   ]
  },
  {
   "cell_type": "code",
   "execution_count": null,
   "metadata": {},
   "outputs": [
    {
     "name": "stdout",
     "output_type": "stream",
     "text": [
      "6.0 ------------ 32.7\n"
     ]
    }
   ],
   "source": [
    "Q1 = np.nanpercentile(df[\"infant_mortality\"], 25) #esto es para obtener el 25% de los datos\n",
    "\n",
    "Q3 = np.nanpercentile(df[\"infant_mortality\"], 75) #esto es para obtener el 75% de los datos\n",
    "\n",
    "print(Q1, \"------------\", Q3)"
   ]
  },
  {
   "cell_type": "code",
   "execution_count": null,
   "metadata": {},
   "outputs": [
    {
     "data": {
      "text/plain": [
       "26.700000000000003"
      ]
     },
     "execution_count": 48,
     "metadata": {},
     "output_type": "execute_result"
    }
   ],
   "source": [
    "IQR = Q3 - Q1 #rango intercuartilico (diferencia entre el valor que esta en el 75% y el que esta en el 25%). No tiene en cuenta valores atipicos. \n",
    "IQR\n"
   ]
  },
  {
   "cell_type": "code",
   "execution_count": null,
   "metadata": {},
   "outputs": [
    {
     "data": {
      "text/plain": [
       "40.050000000000004"
      ]
     },
     "execution_count": 49,
     "metadata": {},
     "output_type": "execute_result"
    }
   ],
   "source": [
    "salto = IQR * 1.5 ## formula para identificar los outliers. Esto es el 'valor medio' pero si no hubiera outliers ()\n",
    "salto"
   ]
  },
  {
   "cell_type": "code",
   "execution_count": null,
   "metadata": {},
   "outputs": [
    {
     "data": {
      "text/plain": [
       "72.75"
      ]
     },
     "execution_count": 50,
     "metadata": {},
     "output_type": "execute_result"
    }
   ],
   "source": [
    "Q3 + salto #calcular a partir de que numero es considerado outlier "
   ]
  },
  {
   "cell_type": "code",
   "execution_count": 74,
   "metadata": {},
   "outputs": [],
   "source": [
    "## dividir en categorias (paises con baja, media y alta mortalidad infantil):\n",
    "\n",
    "paises_baja_mort = df.groupby('country')['infant_mortality']\n"
   ]
  },
  {
   "cell_type": "code",
   "execution_count": 73,
   "metadata": {},
   "outputs": [
    {
     "data": {
      "text/plain": [
       "<pandas.core.groupby.generic.SeriesGroupBy object at 0x7fe5d51c06b0>"
      ]
     },
     "execution_count": 73,
     "metadata": {},
     "output_type": "execute_result"
    }
   ],
   "source": [
    "paises_baja_mort"
   ]
  },
  {
   "cell_type": "code",
   "execution_count": 64,
   "metadata": {},
   "outputs": [
    {
     "data": {
      "text/plain": [
       "[-inf, 6.0]"
      ]
     },
     "execution_count": 64,
     "metadata": {},
     "output_type": "execute_result"
    }
   ],
   "source": [
    "paises_baja_mort"
   ]
  },
  {
   "cell_type": "code",
   "execution_count": null,
   "metadata": {},
   "outputs": [
    {
     "name": "stdout",
     "output_type": "stream",
     "text": [
      "Resumen de mortalidad infantil por categorías:\n",
      "infant_mortality_category\n",
      "Baja        113\n",
      "Moderada     55\n",
      "Alta         16\n",
      "Name: count, dtype: int64\n"
     ]
    },
    {
     "data": {
      "text/html": [
       "<div>\n",
       "<style scoped>\n",
       "    .dataframe tbody tr th:only-of-type {\n",
       "        vertical-align: middle;\n",
       "    }\n",
       "\n",
       "    .dataframe tbody tr th {\n",
       "        vertical-align: top;\n",
       "    }\n",
       "\n",
       "    .dataframe thead th {\n",
       "        text-align: right;\n",
       "    }\n",
       "</style>\n",
       "<table border=\"1\" class=\"dataframe\">\n",
       "  <thead>\n",
       "    <tr style=\"text-align: right;\">\n",
       "      <th></th>\n",
       "      <th>country</th>\n",
       "      <th>infant_mortality</th>\n",
       "      <th>infant_mortality_category</th>\n",
       "    </tr>\n",
       "  </thead>\n",
       "  <tbody>\n",
       "    <tr>\n",
       "      <th>0</th>\n",
       "      <td>Afghanistan</td>\n",
       "      <td>47.9</td>\n",
       "      <td>Moderada</td>\n",
       "    </tr>\n",
       "    <tr>\n",
       "      <th>1</th>\n",
       "      <td>Albania</td>\n",
       "      <td>7.8</td>\n",
       "      <td>Baja</td>\n",
       "    </tr>\n",
       "    <tr>\n",
       "      <th>2</th>\n",
       "      <td>Algeria</td>\n",
       "      <td>20.1</td>\n",
       "      <td>Moderada</td>\n",
       "    </tr>\n",
       "    <tr>\n",
       "      <th>3</th>\n",
       "      <td>Andorra</td>\n",
       "      <td>2.7</td>\n",
       "      <td>Baja</td>\n",
       "    </tr>\n",
       "    <tr>\n",
       "      <th>4</th>\n",
       "      <td>Angola</td>\n",
       "      <td>51.6</td>\n",
       "      <td>Alta</td>\n",
       "    </tr>\n",
       "  </tbody>\n",
       "</table>\n",
       "</div>"
      ],
      "text/plain": [
       "       country  infant_mortality infant_mortality_category\n",
       "0  Afghanistan              47.9                  Moderada\n",
       "1      Albania               7.8                      Baja\n",
       "2      Algeria              20.1                  Moderada\n",
       "3      Andorra               2.7                      Baja\n",
       "4       Angola              51.6                      Alta"
      ]
     },
     "execution_count": 62,
     "metadata": {},
     "output_type": "execute_result"
    }
   ],
   "source": [
    "# Clasificación de mortalidad infantil (infant_mortality) en categorías\n",
    "df['infant_mortality_category'] = pd.cut(\n",
    "    df['infant_mortality'],\n",
    "    bins=[-np.inf, 20, 50, np.inf],\n",
    "    labels=['Baja', 'Moderada', 'Alta']\n",
    ")\n",
    "\n",
    "# Verificar el número de países en cada categoría\n",
    "infant_mortality_summary = df['infant_mortality_category'].value_counts()\n",
    "\n",
    "# Mostrar resultados\n",
    "print(\"Resumen de mortalidad infantil por categorías:\")\n",
    "print(infant_mortality_summary)\n",
    "\n",
    "# Mostrar el DataFrame con la nueva clasificación\n",
    "df[['country', 'infant_mortality', 'infant_mortality_category']].head()"
   ]
  }
 ],
 "metadata": {
  "kernelspec": {
   "display_name": "base",
   "language": "python",
   "name": "python3"
  },
  "language_info": {
   "codemirror_mode": {
    "name": "ipython",
    "version": 3
   },
   "file_extension": ".py",
   "mimetype": "text/x-python",
   "name": "python",
   "nbconvert_exporter": "python",
   "pygments_lexer": "ipython3",
   "version": "3.12.4"
  }
 },
 "nbformat": 4,
 "nbformat_minor": 2
}
